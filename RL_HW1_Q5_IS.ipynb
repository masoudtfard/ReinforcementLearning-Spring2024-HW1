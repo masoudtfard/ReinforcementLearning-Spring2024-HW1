{
  "nbformat": 4,
  "nbformat_minor": 0,
  "metadata": {
    "colab": {
      "provenance": [],
      "toc_visible": true
    },
    "kernelspec": {
      "name": "python3",
      "display_name": "Python 3"
    },
    "language_info": {
      "name": "python"
    }
  },
  "cells": [
    {
      "cell_type": "markdown",
      "source": [
        "***\n",
        "<center><img src='https://github.com/HesamAsad/HesamAsad.github.io/blob/main/images/LOGO_EN_blue.png?raw=true' width=250/></center>\n",
        "\n",
        "# <center>\n",
        "## <center><span style='font-family:\"Times New Roman\"'><span style='background:dark'>  <font color='#1966ab'>$\\LARGE{\\text{Sharif University of Technology}}$</font>  <br>  <br>  <font color='#FFFFCC'>$\\Large{\\text{Masoud Tahmasbi}}$ </font> <br> <font color='#FFFFCC'>$\\normalsize {\\text{Student ID: } 402200275}$ </font>  <br>  <br> <font color='#33FFCC'>$\\large{\\text{CE957: Reinforcement Learning}}$</font> <br>  <font color='#FFFF00'>$\\normalsize{\\text{Assignment #1 - Importance Sampling Integration}}$ </font>\n",
        "<br>\n",
        "\n",
        "***"
      ],
      "metadata": {
        "id": "xlHchU5A9PGz"
      }
    },
    {
      "cell_type": "code",
      "execution_count": null,
      "metadata": {
        "id": "VPnrSYP39J94"
      },
      "outputs": [],
      "source": [
        "from scipy.integrate import quad\n",
        "from scipy import stats\n",
        "import numpy as np\n",
        "import matplotlib.pyplot as plt"
      ]
    },
    {
      "cell_type": "code",
      "source": [
        "def f(x):\n",
        "\treturn np.exp(-x**2/2)\n",
        "\n",
        "result = quad(f, 2,  np.inf)\n",
        "print(f'Ground truth Result:{result[0]}',\n",
        "      f'\\nError:+/-{result[1]}')"
      ],
      "metadata": {
        "colab": {
          "base_uri": "https://localhost:8080/"
        },
        "id": "3rakZXWx9kbC",
        "outputId": "170fbd98-db5c-4ec5-84aa-cf0ceacf7bfc"
      },
      "execution_count": null,
      "outputs": [
        {
          "output_type": "stream",
          "name": "stdout",
          "text": [
            "Ground truth Result:0.05702612399288397 \n",
            "Error:+/-1.0719816406372156e-08\n"
          ]
        }
      ]
    },
    {
      "cell_type": "markdown",
      "source": [
        "## $\\text{Monte Carlo Method}$\n",
        "\n",
        "$$\\widehat{E}_{n}[h(X)]=\\frac{1}{N} \\sum_{i=1}^{N} h\\left(x_{i}\\right)$$"
      ],
      "metadata": {
        "id": "3ND9PgGp-i8D"
      }
    },
    {
      "cell_type": "code",
      "source": [
        "h = lambda x : x > 2\n",
        "X = np.array([0.26, -0.27, -1.56, 0.41, 0.40, -0.02, 0.10, -1.69, -0.28, -2.53])\n",
        "N = len(X)\n",
        "print(f'Integral value using MC: {1/N * np.sum(h(X)) * np.sqrt(2*np.pi)} with N = {N}')\n",
        "print(f'Error using MC:  {result[0] - (1/N * np.sum(h(X)) * np.sqrt(2*np.pi))}')"
      ],
      "metadata": {
        "colab": {
          "base_uri": "https://localhost:8080/"
        },
        "id": "OC3PqDls9lIX",
        "outputId": "18122ad1-38df-48e8-f8b3-609ff3f1788c"
      },
      "execution_count": null,
      "outputs": [
        {
          "output_type": "stream",
          "name": "stdout",
          "text": [
            "Integral value using MC: 0.0 with N = 10\n",
            "Error using MC:  0.05702612399288397\n"
          ]
        }
      ]
    },
    {
      "cell_type": "code",
      "source": [
        "N = 10**3\n",
        "X = np.random.normal(0, 1, size=N)\n",
        "print(f'Integral value using MC: {1/N * np.sum(h(X)) * np.sqrt(2*np.pi)} with N = {N}')\n",
        "print(f'Error using MC:  {result[0] - (1/N * np.sum(h(X)) * np.sqrt(2*np.pi))}')"
      ],
      "metadata": {
        "colab": {
          "base_uri": "https://localhost:8080/"
        },
        "id": "gtq85zLdAVjX",
        "outputId": "3b681565-5a83-4d22-8d07-fefbd22016b5"
      },
      "execution_count": null,
      "outputs": [
        {
          "output_type": "stream",
          "name": "stdout",
          "text": [
            "Integral value using MC: 0.06266570686577501 with N = 1000\n",
            "Error using MC:  -0.005639582872891041\n"
          ]
        }
      ]
    },
    {
      "cell_type": "code",
      "source": [
        "N = 10**7\n",
        "X = np.random.normal(0, 1, size=N)\n",
        "print(f'Integral value using MC: {1/N * np.sum(h(X)) * np.sqrt(2*np.pi)} with N = {N}')\n",
        "print(f'Error using MC:  {result[0] - (1/N * np.sum(h(X)) * np.sqrt(2*np.pi))}')"
      ],
      "metadata": {
        "colab": {
          "base_uri": "https://localhost:8080/"
        },
        "id": "KAWUfp8SCvjm",
        "outputId": "2dfc0525-3993-4df1-8e67-94fd095fe2d1"
      },
      "execution_count": null,
      "outputs": [
        {
          "output_type": "stream",
          "name": "stdout",
          "text": [
            "Integral value using MC: 0.0570506088677741 with N = 10000000\n",
            "Error using MC:  -2.4484874890130792e-05\n"
          ]
        }
      ]
    },
    {
      "cell_type": "markdown",
      "source": [
        "## $\\text{Importance Sampling Method}$\n",
        "\n",
        "$$\\widehat{E}_{g_Y}[h(X)] = \\frac{1}{N} \\sum_{i=1}^{N} \\frac{h\\left(y_{i}\\right) f_{X}\\left(y_{i}\\right)}{g_{Y}\\left(y_{i}\\right)}$$"
      ],
      "metadata": {
        "id": "ZC99or5xCzN5"
      }
    },
    {
      "cell_type": "code",
      "source": [
        "f = lambda x : stats.norm().pdf(x)\n",
        "g = lambda x : stats.norm(loc=3,scale=1).pdf(x)\n",
        "N = 10\n",
        "X = np.random.normal(3,scale=1,size=N)\n",
        "print(f'Integral value using IS: {1./N * np.sum(h(X)*f(X)/g(X)) * np.sqrt(2*np.pi)} with N = {N}')\n",
        "print(f'Error using IS:  {result[0] - (1./N * np.sum(h(X)*f(X)/g(X)) * np.sqrt(2*np.pi))}')"
      ],
      "metadata": {
        "colab": {
          "base_uri": "https://localhost:8080/"
        },
        "id": "YUYK4Yv0CwrP",
        "outputId": "6cbce5ba-8065-4a7c-d4bb-b2710cf5c82d"
      },
      "execution_count": null,
      "outputs": [
        {
          "output_type": "stream",
          "name": "stdout",
          "text": [
            "Integral value using IS: 0.06307930400123596 with N = 10\n",
            "Error using IS:  -0.006053180008351991\n"
          ]
        }
      ]
    },
    {
      "cell_type": "code",
      "source": [
        "f = lambda x : stats.norm().pdf(x)\n",
        "g = lambda x : stats.norm(loc=3,scale=1).pdf(x)\n",
        "N = 10**3\n",
        "X = np.random.normal(3,scale=1,size=N)\n",
        "print(f'Integral value using IS: {1./N * np.sum(h(X)*f(X)/g(X)) * np.sqrt(2*np.pi)} with N = {N}')\n",
        "print(f'Error using IS:  {result[0] - (1./N * np.sum(h(X)*f(X)/g(X)) * np.sqrt(2*np.pi))}')"
      ],
      "metadata": {
        "colab": {
          "base_uri": "https://localhost:8080/"
        },
        "id": "3jU_SJlrD-v4",
        "outputId": "7d410506-4e61-4dff-a640-c60dc8ae42e2"
      },
      "execution_count": null,
      "outputs": [
        {
          "output_type": "stream",
          "name": "stdout",
          "text": [
            "Integral value using IS: 0.05695130459125757 with N = 1000\n",
            "Error using IS:  7.481940162639561e-05\n"
          ]
        }
      ]
    },
    {
      "cell_type": "code",
      "source": [],
      "metadata": {
        "id": "bh8kGJLGEGSZ"
      },
      "execution_count": null,
      "outputs": []
    }
  ]
}